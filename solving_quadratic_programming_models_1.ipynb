{
 "cells": [
  {
   "cell_type": "markdown",
   "metadata": {},
   "source": [
    "# Solving Quadratic Programming Models\n" ]
  },
  {
   "cell_type": "code",
   "execution_count": 1,
   "metadata": {},
   "outputs": [],
   "source": [
    "# load libraries\n",
    "import matplotlib.pyplot as plt\n",
    "import numpy as np\n",
    "import scipy.sparse as sp\n",
    "import scipy.stats as sta\n",
    "\n",
    "import cplex as cp"
   ]
  },
  {
   "cell_type": "markdown",
   "metadata": {},
   "source": [
    "## Quadratic programming\n",
    "Quadratic programming concerns the optimization of a quadratic objective function subject to linear constraints, i.e., the problem:\n",
    "\n",
    "\\begin{align*}\n",
    "\\mbox{minimize} \\;\\;& \\sum\\limits_{i=1}^{N} c_{i} x_{i} + \\dfrac{1}{2} \\sum\\limits_{i=1}^{N} \\sum\\limits_{j=1}^{N} q_{ij} x_{i} x_{j} \\\\\n",
    "\\mbox{subject to:} \\;\\;& \\sum\\limits_{i=1}^{N} a_{mi} x_{i} \\leq b_{m} \\;\\;\\;\\; m = 1, 2, \\dots, M\\\\\n",
    "\\;\\;& l_{i} \\leq x_{i} \\leq u_{i} \\;\\;\\;\\; i = 1, 2, \\dots, N\n",
    "\\end{align*}\n",
    "\n",
    "The data $c_{i}$, $a_{mi}$, $b_{m}$, $l_{i}$, and $u_{i}$ are assumed to be known, as are the additional $q_{ij}$ data. We also assume the symmetry condition $q_{ij} = q_{ji}$. This condition is really no restriction, since $q_{ij}$ can be replaced by $(q_{ij} + q_{ji}) / 2$. The symmetry condition is then met, and a straightforward calculation shows that the old and new $q_{ij}$ coefficients give the same quadratic contribution to the objective function. \n",
    "\n",
    "\\begin{align*}\n",
    "\\mbox{minimize} \\;\\;& \\boldsymbol{c}^{\\top} \\boldsymbol{x} + \\dfrac{1}{2} \\boldsymbol{x}^{\\top} \\mathbf{Q} \\boldsymbol{x} \\\\\n",
    "\\mbox{subject to:} \\;\\;& \\mathbf{A} \\boldsymbol{x} \\leq \\boldsymbol{b} \\\\\n",
    "\\;\\;& \\boldsymbol{l} \\leq \\boldsymbol{x} \\leq \\boldsymbol{u}\n",
    "\\end{align*}"
   ]
  },
  {
   "cell_type": "code",
   "execution_count": 2,
   "metadata": {},
   "outputs": [],
   "source": [
    "def quadratic_programming(direction, A, senses, b, c, Q, l, u):\n",
    "    # create an empty optimization problem\n",
    "    prob = cp.Cplex()\n",
    "\n",
    "    # add decision variables to the problem including their linear coefficients in objective and ranges\n",
    "    prob.variables.add(obj = c.tolist(), lb = l.tolist(), ub = u.tolist())\n",
    "    \n",
    "    # add quadratic coefficients in objective\n",
    "    row_indices, col_indices = Q.nonzero()\n",
    "    prob.objective.set_quadratic_coefficients(zip(row_indices.tolist(), col_indices.tolist(), Q.data.tolist()))\n",
    "\n",
    "    # define problem type\n",
    "    if direction == \"maximize\":\n",
    "        prob.objective.set_sense(prob.objective.sense.maximize)\n",
    "    else:\n",
    "        prob.objective.set_sense(prob.objective.sense.minimize)\n",
    "\n",
    "    # add constraints to the problem including their directions and right-hand side values\n",
    "    prob.linear_constraints.add(senses = senses.tolist(), rhs = b.tolist())\n",
    "\n",
    "    # add coefficients for each constraint\n",
    "    row_indices, col_indices = A.nonzero()\n",
    "    prob.linear_constraints.set_coefficients(zip(row_indices.tolist(), col_indices.tolist(), A.data.tolist()))\n",
    "\n",
    "    print(prob.write_as_string())\n",
    "    # solve the problem\n",
    "    prob.solve()\n",
    "\n",
    "    # check the solution status\n",
    "    print(prob.solution.get_status())\n",
    "    print(prob.solution.status[prob.solution.get_status()])\n",
    "\n",
    "    # get the solution\n",
    "    x_star = prob.solution.get_values()\n",
    "    obj_star = prob.solution.get_objective_value()\n",
    "\n",
    "    return(x_star, obj_star)"
   ]
  },
  {
   "cell_type": "markdown",
   "metadata": {},
   "source": [
    "## Portfolio optimization\n",
    "Suppose that a portfolio contains $N$ different assets. The rate of return of asset $i$ is a random variable with expected value $m_i$. The problem is to find what fraction $x_i$ to invest in each asset $i$ in order to minimize risk, subject to a specified minimum expected rate of return.\n",
    "\n",
    "Let $C$ denote the covariance matrix of rates of asset returns.\n",
    "\n",
    "The classical mean-variance model consists of minimizing portfolio risk, as measured by\n",
    "\n",
    "$$\\frac{1}{2} \\boldsymbol{x}^{\\top} \\mathbf{C} \\boldsymbol{x}$$\n",
    "\n",
    "subject to a set of constraints.\n",
    "\n",
    "The expected return should be no less than a minimal rate of portfolio return $r$ that the investor desires,\n",
    "\n",
    "$$\\sum_{i=1}^{N} m_{i} {x}_i \\ge r,$$\n",
    "\n",
    "the sum of the investment fractions $x_i$'s should add up to a total of one,\n",
    "\n",
    "$$\\sum_{i=1}^{N} {x}_i = 1,$$\n",
    "\n",
    "and, being fractions (or percentages), they should be numbers between zero and one,\n",
    "\n",
    "$$0 \\le x_i \\le 1, \\;\\;\\; i = 1 \\ldots N.$$\n",
    "\n",
    "Since the objective to minimize portfolio risk is quadratic, and the constraints are linear, the resulting optimization problem is a quadratic program, or QP.\n",
    "\n",
    "### Creating a random problem"
   ]
  },
  {
   "cell_type": "code",
   "execution_count": 3,
   "metadata": {},
   "outputs": [],
   "source": [
    "N = 10\n",
    "\n",
    "np.random.seed(220)\n",
    "min_mean = -0.1\n",
    "max_mean = 0.4\n",
    "mean_values = np.random.uniform(min_mean, max_mean, N)\n",
    "expected_return = 0.35\n",
    "\n",
    "min_deviation = 0.08\n",
    "max_deviation = 0.60\n",
    "deviation_values = np.random.uniform(min_deviation, max_deviation, N)\n",
    "\n",
    "eigs = np.random.uniform(0, 10, N)\n",
    "eigs = eigs / np.sum(eigs) * N\n",
    "correlation_matrix = sta.random_correlation.rvs(eigs)\n",
    "\n",
    "covariance_matrix = correlation_matrix * np.dot(deviation_values, np.transpose(deviation_values))"
   ]
  },
  {
   "cell_type": "markdown",
   "metadata": {},
   "source": [
    "### Constructing the model"
   ]
  },
  {
   "cell_type": "code",
   "execution_count": 4,
   "metadata": {},
   "outputs": [
    {
     "name": "stderr",
     "output_type": "stream",
     "text": [
      "Default variable names x1, x2 ... being created.\n",
      "Default row names c1, c2 ... being created.\n"
     ]
    },
    {
     "name": "stdout",
     "output_type": "stream",
     "text": [
      "\\ENCODING=ISO-8859-1\n",
      "\\Problem name: \n",
      "\n",
      "Minimize\n",
      " obj1: [ 1.71744524716625 x1 ^2 + 0.597266706997206 x1 * x2\n",
      "       + 0.757106871634605 x1 * x3 + 0.520432165029989 x1 * x4\n",
      "       - 0.855671313593754 x1 * x5 - 0.440415608520833 x1 * x6\n",
      "       + 0.0341375480853337 x1 * x7 - 0.487055327699182 x1 * x8\n",
      "       + 1.00761936474265 x1 * x9 + 0.121754598286858 x1 * x10\n",
      "       + 1.71744524716625 x2 ^2 - 0.0221170995721966 x2 * x3\n",
      "       + 1.03585054301606 x2 * x4 - 0.766538738590099 x2 * x5\n",
      "       + 0.0865351044914852 x2 * x6 - 0.455453578206722 x2 * x7\n",
      "       - 0.174732142050318 x2 * x8 + 1.0064729237376 x2 * x9\n",
      "       - 0.304721608420724 x2 * x10 + 1.71744524716625 x3 ^2\n",
      "       + 0.737571792947375 x3 * x4 - 0.552584351704508 x3 * x5\n",
      "       - 0.257150592925702 x3 * x6 - 0.00963978266925562 x3 * x7\n",
      "       - 0.148685947711889 x3 * x8 + 0.583368820754356 x3 * x9\n",
      "       + 0.377829579480024 x3 * x10 + 1.71744524716625 x4 ^2\n",
      "       - 0.250364274649252 x4 * x5 - 0.0279993608933202 x4 * x6\n",
      "       + 0.207471340141192 x4 * x7 + 0.133485655738832 x4 * x8\n",
      "       + 1.1516863115427 x4 * x9 - 0.228843703509336 x4 * x10\n",
      "       + 1.71744524716625 x5 ^2 + 0.466217658314398 x5 * x6\n",
      "       + 0.659712054057871 x5 * x7 + 0.0730238617592241 x5 * x8\n",
      "       - 0.367490223091446 x5 * x9 + 0.4658386167465 x5 * x10\n",
      "       + 1.71744524716625 x6 ^2 + 0.593251443478758 x6 * x7\n",
      "       + 1.00287160803987 x6 * x8 - 0.847744357464967 x6 * x9\n",
      "       - 0.325353673404238 x6 * x10 + 1.71744524716625 x7 ^2\n",
      "       + 1.18265217627771 x7 * x8 - 0.495433408336402 x7 * x9\n",
      "       + 0.175574635677091 x7 * x10 + 1.71744524716625 x8 ^2\n",
      "       - 0.644629953505537 x8 * x9 + 0.0529575927390736 x8 * x10\n",
      "       + 1.71744524716625 x9 ^2 + 0.230699260994148 x9 * x10\n",
      "       + 1.71744524716625 x10 ^2 ] / 2\n",
      "Subject To\n",
      " c1: 0.0800761053091786 x1 + 0.0868267088991483 x2 + 0.22050515445743 x3\n",
      "     + 0.0153701686421891 x4 + 0.0662477276864434 x5 + 0.242203786491261 x6\n",
      "     + 0.0497736737163415 x7 + 0.365053713471329 x8 + 0.189697362568866 x9\n",
      "     + 0.108898846344537 x10 >= 0.35\n",
      " c2: x1 + x2 + x3 + x4 + x5 + x6 + x7 + x8 + x9 + x10  = 1\n",
      "Bounds\n",
      " 0 <= x1 <= 1\n",
      " 0 <= x2 <= 1\n",
      " 0 <= x3 <= 1\n",
      " 0 <= x4 <= 1\n",
      " 0 <= x5 <= 1\n",
      " 0 <= x6 <= 1\n",
      " 0 <= x7 <= 1\n",
      " 0 <= x8 <= 1\n",
      " 0 <= x9 <= 1\n",
      " 0 <= x10 <= 1\n",
      "End\n",
      "\n",
      "Version identifier: 22.1.0.0 | 2022-03-09 | 1a383f8ce\n",
      "CPXPARAM_Read_DataCheck                          1\n",
      "Number of nonzeros in lower triangle of Q = 45\n",
      "Using Approximate Minimum Degree ordering\n",
      "Total time for automatic ordering = 0.00 sec. (0.00 ticks)\n",
      "Summary statistics for factor of Q:\n",
      "  Rows in Factor            = 10\n",
      "  Integer space required    = 10\n",
      "  Total non-zeros in factor = 55\n",
      "  Total FP ops to factor    = 385\n",
      "Tried aggregator 1 time.\n",
      "QP Presolve added 0 rows and 10 columns.\n",
      "Reduced QP has 12 rows, 20 columns, and 85 nonzeros.\n",
      "Reduced QP objective Q matrix has 10 nonzeros.\n",
      "Presolve time = 0.06 sec. (0.01 ticks)\n",
      "Parallel mode: using up to 2 threads for barrier.\n",
      "Number of nonzeros in lower triangle of A*A' = 66\n",
      "Using Approximate Minimum Degree ordering\n",
      "Total time for automatic ordering = 0.01 sec. (0.00 ticks)\n",
      "Summary statistics for Cholesky factor:\n",
      "  Threads                   = 2\n",
      "  Rows in Factor            = 12\n",
      "  Integer space required    = 12\n",
      "  Total non-zeros in factor = 78\n",
      "  Total FP ops to factor    = 650\n",
      " Itn      Primal Obj        Dual Obj  Prim Inf Upper Inf  Dual Inf          \n",
      "   0   1.4660301e-01  -1.0000147e+04  2.57e+01  1.00e+01  1.00e+03\n",
      "   1   3.4842572e-01  -1.8206313e+03  3.47e+00  1.35e+00  1.35e+02\n",
      "   2   6.3555060e-01  -3.0888178e+02  6.04e-01  2.35e-01  2.35e+01\n",
      "   3   7.5047791e-01  -4.3479775e+01  3.01e-04  1.17e-04  1.17e-02\n",
      "   4   7.5038459e-01   4.4815946e-01  2.05e-06  7.98e-07  8.00e-05\n",
      "   5   7.3424170e-01   6.6849382e-01  3.65e-07  1.42e-07  1.42e-05\n",
      "   6   6.9245076e-01   6.8601717e-01  1.57e-15  6.11e-16  3.51e-15\n",
      "   7   6.9104558e-01   6.9056491e-01  2.59e-15  2.64e-16  3.36e-15\n",
      "   8   6.9089944e-01   6.9087651e-01  1.71e-15  2.22e-16  3.19e-15\n",
      "   9   6.9089118e-01   6.9089009e-01  1.47e-15  2.36e-16  2.76e-15\n",
      "  10   6.9089078e-01   6.9089073e-01  2.02e-15  2.50e-16  1.64e-15\n",
      "  11   6.9089076e-01   6.9089076e-01  1.49e-15  4.16e-17  2.73e-15\n",
      "Barrier time = 0.18 sec. (0.12 ticks)\n",
      "\n",
      "Total time on 2 threads = 0.19 sec. (0.12 ticks)\n",
      "1\n",
      "optimal\n",
      "[1.017399457183813e-10, 9.825273492320872e-11, 0.08058446064096911, 5.6393693121940876e-11, 7.944252145902102e-11, 8.609278783428155e-10, 5.432973949967778e-11, 0.899995964501939, 0.01941957349770405, 1.0830136612520749e-10]\n",
      "0.6908907635685869\n"
     ]
    }
   ],
   "source": [
    "c = np.repeat(0, N)\n",
    "senses = np.array([\"G\", \"E\"])\n",
    "b = np.array([expected_return, 1])\n",
    "l = np.repeat(0, N)\n",
    "u = np.repeat(1, N)\n",
    "\n",
    "aij = np.concatenate((mean_values, np.repeat(1, N)))\n",
    "row = np.concatenate((np.repeat(0, N), np.repeat(1, N)))\n",
    "col = np.concatenate((range(N), range(N)))\n",
    "A = sp.csr_matrix((aij, (row, col)), shape = (2, N))\n",
    "\n",
    "Q = sp.csr_matrix(covariance_matrix)\n",
    "\n",
    "x_star, obj_star = quadratic_programming(\"minimize\", A, senses, b, c, Q, l, u)\n",
    "print(x_star)\n",
    "print(obj_star)"
   ]
  },
  {
   "cell_type": "code",
   "execution_count": 5,
   "metadata": {},
   "outputs": [
    {
     "data": {
      "image/png": "[encoded data removed]",
      "text/plain": [
       "<Figure size 720x432 with 1 Axes>"
      ]
     },
     "metadata": {
      "needs_background": "light"
     },
     "output_type": "display_data"
    }
   ],
   "source": [
    "plt.figure(figsize = (10, 6))\n",
    "plt.bar(x = np.arange(1, N + 1), height = x_star)\n",
    "plt.xlabel(\"Asset\")\n",
    "plt.ylabel(\"Proportion\")\n",
    "plt.show()"
   ]
  }
 ],
 "metadata": {
  "kernelspec": {
   "display_name": "Python 3",
   "language": "python",
   "name": "python3"
  },
  "language_info": {
   "codemirror_mode": {
    "name": "ipython",
    "version": 3
   },
   "file_extension": ".py",
   "mimetype": "text/x-python",
   "name": "python",
   "nbconvert_exporter": "python",
   "pygments_lexer": "ipython3",
   "version": "3.7.7"
  }
 },
 "nbformat": 4,
 "nbformat_minor": 4
}
