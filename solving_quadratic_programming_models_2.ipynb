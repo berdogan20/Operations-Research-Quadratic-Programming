{
 "cells": [
  {
   "cell_type": "markdown",
   "metadata": {},
   "source": [
    "# Solving Quadratic Programming Models\n",
    "## Mehmet Gönen\n",
    "## December 7, 2022"
   ]
  },
  {
   "cell_type": "code",
   "execution_count": 1,
   "metadata": {},
   "outputs": [],
   "source": [
    "# load libraries\n",
    "import matplotlib.pyplot as plt\n",
    "import numpy as np\n",
    "import scipy.sparse as sp\n",
    "import scipy.linalg as linalg\n",
    "\n",
    "import cplex as cp"
   ]
  },
  {
   "cell_type": "code",
   "execution_count": 2,
   "metadata": {},
   "outputs": [],
   "source": [
    "def quadratic_programming(direction, A, senses, b, c, Q, l, u):\n",
    "    # create an empty optimization problem\n",
    "    prob = cp.Cplex()\n",
    "\n",
    "    # add decision variables to the problem including their linear coefficients in objective and ranges\n",
    "    prob.variables.add(obj = c.tolist(), lb = l.tolist(), ub = u.tolist())\n",
    "    \n",
    "    # add quadratic coefficients in objective\n",
    "    row_indices, col_indices = Q.nonzero()\n",
    "    prob.objective.set_quadratic_coefficients(zip(row_indices.tolist(), col_indices.tolist(), Q.data.tolist()))\n",
    "\n",
    "    # define problem type\n",
    "    if direction == \"maximize\":\n",
    "        prob.objective.set_sense(prob.objective.sense.maximize)\n",
    "    else:\n",
    "        prob.objective.set_sense(prob.objective.sense.minimize)\n",
    "\n",
    "    # add constraints to the problem including their directions and right-hand side values\n",
    "    prob.linear_constraints.add(senses = senses.tolist(), rhs = b.tolist())\n",
    "\n",
    "    # add coefficients for each constraint\n",
    "    row_indices, col_indices = A.nonzero()\n",
    "    prob.linear_constraints.set_coefficients(zip(row_indices.tolist(), col_indices.tolist(), A.data.tolist()))\n",
    "\n",
    "    print(prob.write_as_string())\n",
    "    # solve the problem\n",
    "    prob.solve()\n",
    "\n",
    "    # check the solution status\n",
    "    print(prob.solution.get_status())\n",
    "    print(prob.solution.status[prob.solution.get_status()])\n",
    "\n",
    "    # get the solution\n",
    "    x_star = prob.solution.get_values()\n",
    "    obj_star = prob.solution.get_objective_value()\n",
    "\n",
    "    return(x_star, obj_star)"
   ]
  },
  {
   "attachments": {
    "image.png": {
     "image/png": "[encoded data removed]"
    }
   },
   "cell_type": "markdown",
   "metadata": {},
   "source": [
    "## Euclidean distance between polyhedra\n",
    "Let $C$ and $D$ be two polyhedra described by the sets of linear inequalities $\\mathbf{A}_{1} \\boldsymbol{x} \\leq \\boldsymbol{b}_{1}$ and $\\mathbf{A}_{2} \\boldsymbol{x} \\leq \\boldsymbol{b}_{2}$, respectively. The distance between $C$ and $D$ is the distance between the closest pair of points, one in $C$ and the other in $D$, as illustrated in figure below.\n",
    "\n",
    "![image.png](attachment:image.png)\n",
    "\n",
    "The distance between them is the optimal value of the problem\n",
    "\n",
    "\\begin{align*}\n",
    "\\mbox{minimize} \\;\\;& \\|\\boldsymbol{x}_{1} - \\boldsymbol{x}_{2}\\|_{2} = \\sqrt{(x_{11} - x_{21})^{2} + (x_{12} - x_{22})^{2}} \\\\\n",
    "\\mbox{subject to:} \\;\\;& \\mathbf{A}_{1} \\boldsymbol{x}_{1} \\leq  \\boldsymbol{b}_{1}\\\\\n",
    "\\;\\;& \\mathbf{A}_{2} \\boldsymbol{x}_{2} \\leq  \\boldsymbol{b}_{2}.\n",
    "\\end{align*}\n",
    "\n",
    "We can square the objective to obtain an equivalent QP.\n",
    "\n",
    "\\begin{align*}\n",
    "\\mbox{minimize} \\;\\;& \\|\\boldsymbol{x}_{1} - \\boldsymbol{x}_{2}\\|_{2}^{2} = (x_{11} - x_{21})^{2} + (x_{12} - x_{22})^{2} = x_{11}^2 - 2 x_{11} x_{21} + x_{21}^{2} + x_{12}^2 - 2 x_{12} x_{22} + x_{22}^{2} \\\\\n",
    "\\mbox{subject to:} \\;\\;& \\mathbf{A}_{1} \\boldsymbol{x}_{1} \\leq  \\boldsymbol{b}_{1}\\\\\n",
    "\\;\\;& \\mathbf{A}_{2} \\boldsymbol{x}_{2} \\leq  \\boldsymbol{b}_{2}.\n",
    "\\end{align*}\n",
    "\n",
    "\\begin{align*}\n",
    "\\mbox{minimize} \\;\\;& \\begin{bmatrix}x_{11} & x_{12} & x_{21} & x_{22}\\end{bmatrix}\n",
    "\\begin{bmatrix} 1 & 0 & -1 & 0\\\\0 & 1 & 0 & -1\\\\-1 & 0 & 1 & 0\\\\0 & -1 & 0 & 1\\end{bmatrix}\n",
    "\\begin{bmatrix}x_{11} \\\\ x_{12} \\\\ x_{21} \\\\ x_{22}\\end{bmatrix}\\\\\n",
    "\\mbox{subject to:} \\;\\;& \\begin{bmatrix} \\mathbf{A}_{1} & \\mathbf{0} \\\\ \\mathbf{0} & \\mathbf{A}_{2} \\end{bmatrix} \\begin{bmatrix}x_{11} \\\\ x_{12} \\\\ x_{21} \\\\ x_{22}\\end{bmatrix} \\leq \\begin{bmatrix} \\boldsymbol{b}_{1} \\\\ \\boldsymbol{b}_{2}\\end{bmatrix}.\n",
    "\\end{align*}"
   ]
  },
  {
   "cell_type": "code",
   "execution_count": 3,
   "metadata": {},
   "outputs": [
    {
     "data": {
      "image/png": "[encoded data removed]",
      "text/plain": [
       "<Figure size 576x576 with 1 Axes>"
      ]
     },
     "metadata": {
      "needs_background": "light"
     },
     "output_type": "display_data"
    }
   ],
   "source": [
    "plt.figure(figsize = (8, 8))\n",
    "plt.axis(\"equal\")\n",
    "plt.fill([3, 10, 8, 5], [7, 7, 2, 3], color = \"#377eb8\")\n",
    "plt.plot([3, 10, 8, 5, 3], [7, 7, 2, 3, 7], color = \"black\")\n",
    "plt.fill([-5, 2, 0, -3], [-2, -2, 2, 3], color = \"#e41a1c\")\n",
    "plt.plot([-5, 2, 0, -3, -5], [-2, -2, 2, 3, -2], color = \"black\")\n",
    "plt.xlabel(\"$x_1$\")\n",
    "plt.ylabel(\"$x_2$\")\n",
    "plt.show()"
   ]
  },
  {
   "cell_type": "markdown",
   "metadata": {},
   "source": [
    "The blue polyhedron can be represented as\n",
    "\n",
    "\\begin{align*}\n",
    "\\underbrace{\\begin{bmatrix} 0 & 1\\\\5 & -2\\\\-1 & -3\\\\-2 & -1\\end{bmatrix}}_{\\mathbf{A}_{1}} \\underbrace{\\begin{bmatrix} x_{11}\\\\x_{12}\\end{bmatrix}}_{\\boldsymbol{x}_{1}} \\leq \\underbrace{\\begin{bmatrix} 7\\\\36\\\\-14\\\\-13\\end{bmatrix}}_{\\boldsymbol{b}_{1}}.\n",
    "\\end{align*}\n",
    "\n",
    "The red polyhedron can be represented as\n",
    "\n",
    "\\begin{align*}\n",
    "\\underbrace{\\begin{bmatrix} 0 & -1\\\\2 & 1\\\\1 & 3\\\\-5 & 2\\end{bmatrix}}_{\\mathbf{A}_{2}} \\underbrace{\\begin{bmatrix} x_{21}\\\\x_{22}\\end{bmatrix}}_{\\boldsymbol{x}_{2}} \\leq \\underbrace{\\begin{bmatrix} 2\\\\2\\\\6\\\\21\\end{bmatrix}}_{\\boldsymbol{b}_{2}}.\n",
    "\\end{align*}"
   ]
  },
  {
   "cell_type": "code",
   "execution_count": 4,
   "metadata": {},
   "outputs": [],
   "source": [
    "A1 = np.array([[0, 1],\n",
    "               [5, -2],\n",
    "               [-1, -3],\n",
    "               [-2, -1]])\n",
    "\n",
    "b1 = np.array([7, 36, -14, -13])\n",
    "\n",
    "A2 = np.array([[0, -1],\n",
    "               [2, 1],\n",
    "               [1, 3],\n",
    "               [-5, 2]])\n",
    "\n",
    "b2 = np.array([2, 2, 6, 21])"
   ]
  },
  {
   "cell_type": "code",
   "execution_count": 5,
   "metadata": {},
   "outputs": [
    {
     "name": "stderr",
     "output_type": "stream",
     "text": [
      "Default variable names x1, x2 ... being created.\n",
      "Default row names c1, c2 ... being created.\n"
     ]
    },
    {
     "name": "stdout",
     "output_type": "stream",
     "text": [
      "\\ENCODING=ISO-8859-1\n",
      "\\Problem name: \n",
      "\n",
      "Minimize\n",
      " obj1: [ 2 x1 ^2 - 4 x1 * x3 + 2 x2 ^2 - 4 x2 * x4 + 2 x3 ^2 + 2 x4 ^2 ] / 2\n",
      "Subject To\n",
      " c1: x2 <= 7\n",
      " c2: 5 x1 - 2 x2 <= 36\n",
      " c3: - x1 - 3 x2 <= -14\n",
      " c4: - 2 x1 - x2 <= -13\n",
      " c5: - x4 <= 2\n",
      " c6: 2 x3 + x4 <= 2\n",
      " c7: x3 + 3 x4 <= 6\n",
      " c8: - 5 x3 + 2 x4 <= 21\n",
      "Bounds\n",
      "      x1 Free\n",
      "      x2 Free\n",
      "      x3 Free\n",
      "      x4 Free\n",
      "End\n",
      "\n",
      "Version identifier: 22.1.0.0 | 2022-03-09 | 1a383f8ce\n",
      "CPXPARAM_Read_DataCheck                          1\n",
      "Number of nonzeros in lower triangle of Q = 2\n",
      "Using Approximate Minimum Degree ordering\n",
      "Total time for automatic ordering = 0.00 sec. (0.00 ticks)\n",
      "Summary statistics for factor of Q:\n",
      "  Rows in Factor            = 4\n",
      "  Integer space required    = 4\n",
      "  Total non-zeros in factor = 6\n",
      "  Total FP ops to factor    = 10\n",
      "Tried aggregator 1 time.\n",
      "QP Presolve eliminated 4 rows and 2 columns.\n",
      "QP Presolve added 0 rows and 4 columns.\n",
      "Reduced QP has 8 rows, 6 columns, and 18 nonzeros.\n",
      "Reduced QP objective Q matrix has 2 nonzeros.\n",
      "Presolve time = 0.02 sec. (0.01 ticks)\n",
      "Parallel mode: using up to 2 threads for barrier.\n",
      "Number of nonzeros in lower triangle of A*A' = 18\n",
      "Using Approximate Minimum Degree ordering\n",
      "Total time for automatic ordering = 0.00 sec. (0.00 ticks)\n",
      "Summary statistics for Cholesky factor:\n",
      "  Threads                   = 2\n",
      "  Rows in Factor            = 8\n",
      "  Integer space required    = 8\n",
      "  Total non-zeros in factor = 36\n",
      "  Total FP ops to factor    = 204\n",
      " Itn      Primal Obj        Dual Obj  Prim Inf Upper Inf  Dual Inf          \n",
      "   0   7.9391724e+01  -9.0793917e+03  6.82e+02  0.00e+00  8.01e+03\n",
      "   1   3.4522117e+02  -1.6865940e+04  7.93e+01  0.00e+00  9.32e+02\n",
      "   2   1.6258812e+02  -5.9196120e+03  9.61e-05  2.50e-16  1.91e-09\n",
      "   3   1.5492684e+02  -8.1535736e+01  5.55e-06  4.44e-16  8.74e-09\n",
      "   4   4.8576676e+01  -1.9884671e+02  9.63e-07  0.00e+00  9.01e-02\n",
      "   5   2.9664413e+01  -1.2958418e+01  1.40e-07  0.00e+00  5.32e-01\n",
      "   6   5.2327492e+01  -4.8407899e+01  4.92e-08  4.44e-16  5.07e-01\n",
      "   7   8.0663527e+01  -2.6721718e+01  2.29e-09  8.88e-16  3.06e-02\n",
      "   8   3.1905940e+01  -3.8278117e+01  6.54e-11  0.00e+00  4.33e-02\n",
      "   9   2.4744514e+01   1.7717514e+01  4.26e-12  0.00e+00  7.68e-03\n",
      "  10   2.4439373e+01   2.3475749e+01  1.01e-12  0.00e+00  1.50e-03\n",
      "  11   2.4230462e+01   2.4111311e+01  1.38e-13  0.00e+00  4.08e-05\n",
      "  12   2.4203733e+01   2.4188888e+01  1.91e-13  0.00e+00  1.90e-06\n",
      "  13   2.4200464e+01   2.4198609e+01  3.03e-13  0.00e+00  1.59e-07\n",
      "  14   2.4200058e+01   2.4199826e+01  9.19e-14  0.00e+00  1.64e-08\n",
      "  15   2.4200007e+01   2.4199978e+01  3.11e-13  0.00e+00  1.79e-09\n",
      "  16   2.4200001e+01   2.4199997e+01  2.35e-13  0.00e+00  1.97e-10\n",
      "  17   2.4200000e+01   2.4200000e+01  2.06e-13  0.00e+00  2.16e-11\n",
      "  18   2.4200000e+01   2.4200000e+01  3.94e-13  0.00e+00  2.37e-12\n",
      "Barrier time = 0.09 sec. (0.06 ticks)\n",
      "\n",
      "Total time on 2 threads = 0.09 sec. (0.06 ticks)\n",
      "1\n",
      "optimal\n",
      "[4.707027930338501, 3.585944140930879, 0.3070279313175122, 1.3859441357571767]\n",
      "24.200000014148998\n"
     ]
    }
   ],
   "source": [
    "c = np.repeat(0, 4)\n",
    "senses = np.repeat(\"L\", A1.shape[0] + A2.shape[0])\n",
    "b = np.concatenate((b1, b2))\n",
    "l = np.repeat(-cp.infinity, 4)\n",
    "u = np.repeat(cp.infinity, 4)\n",
    "\n",
    "A = np.vstack((np.hstack((A1, np.zeros((A1.shape[0], 2)))),\n",
    "               np.hstack((np.zeros((A2.shape[0], 2)), A2))))\n",
    "A = sp.csr_matrix(A)\n",
    "\n",
    "Q = 2 * np.array([[1, 0, -1, 0],\n",
    "                  [0, 1, 0, -1],\n",
    "                  [-1, 0, 1, 0],\n",
    "                  [0, -1, 0, 1]])\n",
    "Q = sp.csr_matrix(Q)\n",
    "\n",
    "x_star, obj_star = quadratic_programming(\"minimize\", A, senses, b, c, Q, l, u)\n",
    "print(x_star)\n",
    "print(obj_star)"
   ]
  },
  {
   "cell_type": "code",
   "execution_count": 6,
   "metadata": {},
   "outputs": [
    {
     "data": {
      "image/png": "[encoded data removed]",
      "text/plain": [
       "<Figure size 576x576 with 1 Axes>"
      ]
     },
     "metadata": {
      "needs_background": "light"
     },
     "output_type": "display_data"
    }
   ],
   "source": [
    "plt.figure(figsize = (8, 8))\n",
    "plt.axis(\"equal\")\n",
    "plt.fill([3, 10, 8, 5], [7, 7, 2, 3], color = \"#377eb8\")\n",
    "plt.plot([3, 10, 8, 5, 3], [7, 7, 2, 3, 7], color = \"black\")\n",
    "plt.fill([-5, 2, 0, -3], [-2, -2, 2, 3], color = \"#e41a1c\")\n",
    "plt.plot([-5, 2, 0, -3, -5], [-2, -2, 2, 3, -2], color = \"black\")\n",
    "plt.plot(x_star[0], x_star[1], \"o\", color = \"orange\", markersize = 12)\n",
    "plt.plot(x_star[2], x_star[3], \"o\", color = \"orange\", markersize = 12)\n",
    "plt.plot([x_star[0], x_star[2]], [x_star[1], x_star[3]], color = \"orange\", linewidth = 3)\n",
    "plt.xlabel(\"$x_1$\")\n",
    "plt.ylabel(\"$x_2$\")\n",
    "plt.show()"
   ]
  },
  {
   "cell_type": "code",
   "execution_count": 7,
   "metadata": {},
   "outputs": [],
   "source": [
    "def distance_between_polyhedra(A1, b1, A2, b2):\n",
    "    N = A1.shape[1]\n",
    "    M1 = A1.shape[0]\n",
    "    M2 = A2.shape[0]\n",
    "    c = np.repeat(0, 2 * N)\n",
    "    senses = np.repeat(\"L\", M1 + M2)\n",
    "    b = np.concatenate((b1, b2))\n",
    "    l = np.repeat(-cp.infinity, 2 * N)\n",
    "    u = np.repeat(cp.infinity, 2 * N)\n",
    "\n",
    "    A = linalg.block_diag(A1, A2)\n",
    "    A = sp.csr_matrix(A)\n",
    "\n",
    "    Q = sp.diags((2, -2, -2), offsets = (0, N, -N), shape = (2 * N, 2 * N), format = \"csr\")\n",
    "\n",
    "    x_star, obj_star = quadratic_programming(\"minimize\", A, senses, b, c, Q, l, u)\n",
    "    return(x_star[:-N], x_star[N:], np.sqrt(obj_star))"
   ]
  },
  {
   "cell_type": "code",
   "execution_count": 8,
   "metadata": {},
   "outputs": [
    {
     "name": "stderr",
     "output_type": "stream",
     "text": [
      "Default variable names x1, x2 ... being created.\n",
      "Default row names c1, c2 ... being created.\n"
     ]
    },
    {
     "name": "stdout",
     "output_type": "stream",
     "text": [
      "[[ 0  1]\n",
      " [ 5 -2]\n",
      " [-1 -3]\n",
      " [-2 -1]]\n",
      "[  7  36 -14 -13]\n",
      "[[ 0 -1]\n",
      " [ 2  1]\n",
      " [ 1  3]\n",
      " [-5  2]]\n",
      "[ 2  2  6 21]\n",
      "\\ENCODING=ISO-8859-1\n",
      "\\Problem name: \n",
      "\n",
      "Minimize\n",
      " obj1: [ 2 x1 ^2 - 4 x1 * x3 + 2 x2 ^2 - 4 x2 * x4 + 2 x3 ^2 + 2 x4 ^2 ] / 2\n",
      "Subject To\n",
      " c1: x2 <= 7\n",
      " c2: 5 x1 - 2 x2 <= 36\n",
      " c3: - x1 - 3 x2 <= -14\n",
      " c4: - 2 x1 - x2 <= -13\n",
      " c5: - x4 <= 2\n",
      " c6: 2 x3 + x4 <= 2\n",
      " c7: x3 + 3 x4 <= 6\n",
      " c8: - 5 x3 + 2 x4 <= 21\n",
      "Bounds\n",
      "      x1 Free\n",
      "      x2 Free\n",
      "      x3 Free\n",
      "      x4 Free\n",
      "End\n",
      "\n",
      "Version identifier: 22.1.0.0 | 2022-03-09 | 1a383f8ce\n",
      "CPXPARAM_Read_DataCheck                          1\n",
      "Number of nonzeros in lower triangle of Q = 2\n",
      "Using Approximate Minimum Degree ordering\n",
      "Total time for automatic ordering = 0.00 sec. (0.00 ticks)\n",
      "Summary statistics for factor of Q:\n",
      "  Rows in Factor            = 4\n",
      "  Integer space required    = 4\n",
      "  Total non-zeros in factor = 6\n",
      "  Total FP ops to factor    = 10\n",
      "Tried aggregator 1 time.\n",
      "QP Presolve eliminated 4 rows and 2 columns.\n",
      "QP Presolve added 0 rows and 4 columns.\n",
      "Reduced QP has 8 rows, 6 columns, and 18 nonzeros.\n",
      "Reduced QP objective Q matrix has 2 nonzeros.\n",
      "Presolve time = 0.04 sec. (0.01 ticks)\n",
      "Parallel mode: using up to 2 threads for barrier.\n",
      "Number of nonzeros in lower triangle of A*A' = 18\n",
      "Using Approximate Minimum Degree ordering\n",
      "Total time for automatic ordering = 0.00 sec. (0.00 ticks)\n",
      "Summary statistics for Cholesky factor:\n",
      "  Threads                   = 2\n",
      "  Rows in Factor            = 8\n",
      "  Integer space required    = 8\n",
      "  Total non-zeros in factor = 36\n",
      "  Total FP ops to factor    = 204\n",
      " Itn      Primal Obj        Dual Obj  Prim Inf Upper Inf  Dual Inf          \n",
      "   0   7.9391724e+01  -9.0793917e+03  6.82e+02  0.00e+00  8.01e+03\n",
      "   1   3.4522117e+02  -1.6865940e+04  7.93e+01  0.00e+00  9.32e+02\n",
      "   2   1.6258812e+02  -5.9196120e+03  9.61e-05  2.50e-16  1.91e-09\n",
      "   3   1.5492684e+02  -8.1535736e+01  5.55e-06  4.44e-16  8.74e-09\n",
      "   4   4.8576676e+01  -1.9884671e+02  9.63e-07  0.00e+00  9.01e-02\n",
      "   5   2.9664413e+01  -1.2958418e+01  1.40e-07  0.00e+00  5.32e-01\n",
      "   6   5.2327492e+01  -4.8407899e+01  4.92e-08  4.44e-16  5.07e-01\n",
      "   7   8.0663527e+01  -2.6721718e+01  2.29e-09  8.88e-16  3.06e-02\n",
      "   8   3.1905940e+01  -3.8278117e+01  6.54e-11  0.00e+00  4.33e-02\n",
      "   9   2.4744514e+01   1.7717514e+01  4.26e-12  0.00e+00  7.68e-03\n",
      "  10   2.4439373e+01   2.3475749e+01  1.01e-12  0.00e+00  1.50e-03\n",
      "  11   2.4230462e+01   2.4111311e+01  1.38e-13  0.00e+00  4.08e-05\n",
      "  12   2.4203733e+01   2.4188888e+01  1.91e-13  0.00e+00  1.90e-06\n",
      "  13   2.4200464e+01   2.4198609e+01  3.03e-13  0.00e+00  1.59e-07\n",
      "  14   2.4200058e+01   2.4199826e+01  9.19e-14  0.00e+00  1.64e-08\n",
      "  15   2.4200007e+01   2.4199978e+01  3.11e-13  0.00e+00  1.79e-09\n",
      "  16   2.4200001e+01   2.4199997e+01  2.35e-13  0.00e+00  1.97e-10\n",
      "  17   2.4200000e+01   2.4200000e+01  2.06e-13  0.00e+00  2.16e-11\n",
      "  18   2.4200000e+01   2.4200000e+01  3.94e-13  0.00e+00  2.37e-12\n",
      "Barrier time = 0.12 sec. (0.06 ticks)\n",
      "\n",
      "Total time on 2 threads = 0.12 sec. (0.06 ticks)\n",
      "1\n",
      "optimal\n",
      "[4.707027930338501, 3.585944140930879]\n",
      "[0.3070279313175122, 1.3859441357571767]\n",
      "4.919349551937634\n"
     ]
    }
   ],
   "source": [
    "print(A1)\n",
    "print(b1)\n",
    "print(A2)\n",
    "print(b2)\n",
    "x1, x2, distance = distance_between_polyhedra(A1, b1, A2, b2)\n",
    "print(x1)\n",
    "print(x2)\n",
    "print(distance)"
   ]
  },
  {
   "cell_type": "code",
   "execution_count": 9,
   "metadata": {},
   "outputs": [
    {
     "data": {
      "image/png": "[encoded data removed]",
      "text/plain": [
       "<Figure size 576x576 with 1 Axes>"
      ]
     },
     "metadata": {
      "needs_background": "light"
     },
     "output_type": "display_data"
    }
   ],
   "source": [
    "plt.figure(figsize = (8, 8))\n",
    "plt.axis(\"equal\")\n",
    "plt.fill([3, 10, 8, 5], [7, 7, 2, 3], color = \"#377eb8\")\n",
    "plt.plot([3, 10, 8, 5, 3], [7, 7, 2, 3, 7], color = \"black\")\n",
    "plt.fill([-5, 2, 0, -3], [-2, -2, 2, 3], color = \"#e41a1c\")\n",
    "plt.plot([-5, 2, 0, -3, -5], [-2, -2, 2, 3, -2], color = \"black\")\n",
    "plt.plot(x1[0], x1[1], \"o\", color = \"orange\", markersize = 12)\n",
    "plt.plot(x2[0], x2[1], \"o\", color = \"orange\", markersize = 12)\n",
    "plt.plot([x1[0], x2[0]], [x1[1], x2[1]], color = \"orange\", linewidth = 3)\n",
    "plt.xlabel(\"$x_1$\")\n",
    "plt.ylabel(\"$x_2$\")\n",
    "plt.show()"
   ]
  },
  {
   "cell_type": "code",
   "execution_count": 10,
   "metadata": {},
   "outputs": [
    {
     "name": "stdout",
     "output_type": "stream",
     "text": [
      "[[ -3.  11.  19.]\n",
      " [ -6.  12.  19.]\n",
      " [ 13. -16.  -5.]\n",
      " [ 16.  -4. -16.]\n",
      " [-12.   4.  15.]\n",
      " [  6.  -6.  10.]]\n",
      "[ 10.  -7. -17. -19.   8. -17.]\n",
      "[[ -9. -13.  -8.]\n",
      " [  3.  -3.  -9.]\n",
      " [  3.   0. -17.]\n",
      " [  1.  -7. -10.]\n",
      " [ -6. -16.  -8.]\n",
      " [-13. -20.  -4.]\n",
      " [  8.   3.   6.]]\n",
      "[-12.  -1.  -1.  13.   2.   2.   3.]\n"
     ]
    }
   ],
   "source": [
    "A1 = np.loadtxt(\"A1.txt\")\n",
    "b1 = np.loadtxt(\"b1.txt\")\n",
    "A2 = np.loadtxt(\"A2.txt\")\n",
    "b2 = np.loadtxt(\"b2.txt\")\n",
    "print(A1)\n",
    "print(b1)\n",
    "print(A2)\n",
    "print(b2)"
   ]
  },
  {
   "cell_type": "code",
   "execution_count": 11,
   "metadata": {},
   "outputs": [
    {
     "name": "stderr",
     "output_type": "stream",
     "text": [
      "Default variable names x1, x2 ... being created.\n",
      "Default row names c1, c2 ... being created.\n"
     ]
    },
    {
     "name": "stdout",
     "output_type": "stream",
     "text": [
      "\\ENCODING=ISO-8859-1\n",
      "\\Problem name: \n",
      "\n",
      "Minimize\n",
      " obj1: [ 2 x1 ^2 - 4 x1 * x4 + 2 x2 ^2 - 4 x2 * x5 + 2 x3 ^2 - 4 x3 * x6\n",
      "       + 2 x4 ^2 + 2 x5 ^2 + 2 x6 ^2 ] / 2\n",
      "Subject To\n",
      " c1:  - 3 x1 + 11 x2 + 19 x3 <= 10\n",
      " c2:  - 6 x1 + 12 x2 + 19 x3 <= -7\n",
      " c3:  13 x1 - 16 x2 - 5 x3 <= -17\n",
      " c4:  16 x1 - 4 x2 - 16 x3 <= -19\n",
      " c5:  - 12 x1 + 4 x2 + 15 x3 <= 8\n",
      " c6:  6 x1 - 6 x2 + 10 x3 <= -17\n",
      " c7:  - 9 x4 - 13 x5 - 8 x6 <= -12\n",
      " c8:  3 x4 - 3 x5 - 9 x6 <= -1\n",
      " c9:  3 x4 - 17 x6 <= -1\n",
      " c10: x4 - 7 x5 - 10 x6 <= 13\n",
      " c11: - 6 x4 - 16 x5 - 8 x6 <= 2\n",
      " c12: - 13 x4 - 20 x5 - 4 x6 <= 2\n",
      " c13: 8 x4 + 3 x5 + 6 x6 <= 3\n",
      "Bounds\n",
      "      x1 Free\n",
      "      x2 Free\n",
      "      x3 Free\n",
      "      x4 Free\n",
      "      x5 Free\n",
      "      x6 Free\n",
      "End\n",
      "\n",
      "Version identifier: 22.1.0.0 | 2022-03-09 | 1a383f8ce\n",
      "CPXPARAM_Read_DataCheck                          1\n",
      "Number of nonzeros in lower triangle of Q = 3\n",
      "Using Approximate Minimum Degree ordering\n",
      "Total time for automatic ordering = 0.01 sec. (0.00 ticks)\n",
      "Summary statistics for factor of Q:\n",
      "  Rows in Factor            = 6\n",
      "  Integer space required    = 6\n",
      "  Total non-zeros in factor = 9\n",
      "  Total FP ops to factor    = 15\n",
      "Tried aggregator 1 time.\n",
      "QP Presolve eliminated 3 rows and 3 columns.\n",
      "QP Presolve added 0 rows and 6 columns.\n",
      "Reduced QP has 16 rows, 9 columns, and 47 nonzeros.\n",
      "Reduced QP objective Q matrix has 3 nonzeros.\n",
      "Presolve time = 0.03 sec. (0.01 ticks)\n",
      "Parallel mode: using up to 2 threads for barrier.\n",
      "Number of nonzeros in lower triangle of A*A' = 74\n",
      "Using Approximate Minimum Degree ordering\n",
      "Total time for automatic ordering = 0.00 sec. (0.00 ticks)\n",
      "Summary statistics for Cholesky factor:\n",
      "  Threads                   = 2\n",
      "  Rows in Factor            = 16\n",
      "  Integer space required    = 19\n",
      "  Total non-zeros in factor = 94\n",
      "  Total FP ops to factor    = 656\n",
      " Itn      Primal Obj        Dual Obj  Prim Inf Upper Inf  Dual Inf          \n",
      "   0   1.1933439e+00  -1.1933439e+00  1.46e+01  0.00e+00  1.30e+04\n",
      "   1   4.7974426e+00   2.9534666e+02  5.95e+00  0.00e+00  5.31e+03\n",
      "   2   1.2877728e+01   3.3172265e+02  1.48e+00  0.00e+00  1.32e+03\n",
      "   3   2.5615476e+01  -9.8454340e+00  6.87e-02  0.00e+00  6.13e+01\n",
      "   4   1.3194766e+01   1.7027251e+00  1.13e-02  0.00e+00  1.00e+01\n",
      "   5   9.6480363e+00   8.7770227e+00  1.04e-03  0.00e+00  3.09e+00\n",
      "   6   7.4756485e+00   6.7577321e+00  5.65e-05  0.00e+00  1.75e-01\n",
      "   7   6.9869255e+00   6.9099634e+00  3.64e-12  0.00e+00  4.43e-04\n",
      "   8   6.9582517e+00   6.9523267e+00  1.10e-12  0.00e+00  5.58e-06\n",
      "   9   6.9561493e+00   6.9556939e+00  7.13e-13  0.00e+00  2.83e-08\n",
      "  10   6.9559877e+00   6.9559526e+00  6.93e-13  0.00e+00  1.68e-10\n",
      "  11   6.9559752e+00   6.9559725e+00  7.95e-13  0.00e+00  1.01e-12\n",
      "  12   6.9559743e+00   6.9559741e+00  9.80e-13  0.00e+00  1.52e-14\n",
      "  13   6.9559742e+00   6.9559742e+00  1.10e-12  0.00e+00  1.71e-14\n",
      "Barrier time = 0.18 sec. (0.09 ticks)\n",
      "\n",
      "Total time on 2 threads = 0.18 sec. (0.09 ticks)\n",
      "1\n",
      "optimal\n",
      "[-3.44594594649201, 2.1013513505541046, -2.78378378406503]\n",
      "[-2.941700300020541, 3.242900240592412, -0.46030005256642514]\n",
      "2.6374180917844257\n"
     ]
    }
   ],
   "source": [
    "x1, x2, distance = distance_between_polyhedra(A1, b1, A2, b2)\n",
    "print(x1)\n",
    "print(x2)\n",
    "print(distance)"
   ]
  }
 ],
 "metadata": {
  "kernelspec": {
   "display_name": "Python 3",
   "language": "python",
   "name": "python3"
  },
  "language_info": {
   "codemirror_mode": {
    "name": "ipython",
    "version": 3
   },
   "file_extension": ".py",
   "mimetype": "text/x-python",
   "name": "python",
   "nbconvert_exporter": "python",
   "pygments_lexer": "ipython3",
   "version": "3.7.7"
  }
 },
 "nbformat": 4,
 "nbformat_minor": 4
}
